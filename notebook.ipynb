{
 "cells": [
  {
   "cell_type": "markdown",
   "metadata": {
    "dc": {
     "key": "3"
    },
    "deletable": false,
    "editable": false,
    "run_control": {
     "frozen": true
    },
    "tags": [
     "context"
    ]
   },
   "source": [
    "## # Introduction\n",
    "<p><img src=\"https://assets.datacamp.com/production/project_981/img/lego_unsplash.jpg\" alt=\"A picture of Lego characters!\"></p>\n",
    "<h3 id=\"letslookatlegosets\">Let's look at Lego sets!</h3>\n",
    "<p>Lego is a household name across the world, supported by a diverse toy line, hit movies, and a series of successful video games. In this project, we are going to explore a key development in the history of Lego: the introduction of licensed sets such as Star Wars, Super Heroes, and Harry Potter.</p>\n",
    "<p>It may not be widely known, but Lego has had its share of ups and downs since its inception in the early 20th century. This includes a particularly rough period in the late 90s. As described in <a href=\"https://www.businessinsider.com/how-lego-made-a-huge-turnaround-2014-2?r=US&IR=T\">this article</a>, Lego was only able to survive due to a successful internal brand (Bionicle) and the introduction of its first licensed series: Star Wars. In the instructions panel are the two questions you will need to answer to complete this project.</p>\n",
    "<p>Before diving into our analysis though, let's become familiar with the two datasets that will help you with this project:<br><br></p>\n",
    "<div style=\"background-color: #ebf4f7; color: #595959; text-align:left; vertical-align: middle; padding: 15px 25px 15px 25px; line-height: 1.6;\">\n",
    "    <div style=\"font-size:20px\"><b>datasets/lego_sets.csv</b></div>\n",
    "<ul>\n",
    "    <li><b>set_num:</b> A code that is unique to each set in the dataset. <b><i>This column is critical, and a missing value indicates the set is a duplicate or invalid!</i></b></li>\n",
    "    <li><b>set_name:</b> A name for every set in the dataset (note that this can be the same for different sets).</li>\n",
    "    <li><b>year:</b> The date the set was released.</li>\n",
    "    <li><b>num_parts:</b> The number of parts contained in the set.<b><i> This column is not central to our analyses, so missing values are acceptable.</i></b></li>\n",
    "        <li><b>theme_name:</b> The name of the sub-theme of the set.</li>\n",
    "    <li><b>parent_theme:</b> The name of the parent theme the set belongs to. Matches the `name` column of the `parent_themes` csv file.</li>\n",
    "</ul>\n",
    "\n",
    "<div style=\"font-size:20px\"><b>datasets/parent_themes.csv</b></div>\n",
    "<ul>\n",
    "    <li><b>id:</b> A code that is unique to every theme.</li>\n",
    "    <li><b>name:</b> The name of the parent theme.</li>\n",
    "    <li><b>is_licensed:</b> A Boolean column specifying whether the theme is a licensed theme.</li>\n",
    "</ul>\n",
    "    </div>\n",
    "<p>From here on out, it will be your task to explore and manipulate the existing data until you are able to answer the two questions described in the instructions panel. Feel free to add as many cells as necessary. Finally, remember that you are only tested on your answer, not on the methods you use to arrive at the answer!</p>\n",
    "<p><em><strong>Note:</strong> If you haven't completed a DataCamp project before you should check out the <a href=\"https://projects.datacamp.com/projects/33\">Intro to Projects</a> first to learn about the interface. In this project, you also need to know your way around <code>pandas</code> DataFrames and it's recommended that you take a look at the course <a href=\"https://www.datacamp.com/courses/data-manipulation-with-pandas\">Data Manipulation with pandas</a>.</em></p>"
   ]
  },
  {
   "cell_type": "code",
   "execution_count": 1,
   "metadata": {
    "dc": {
     "key": "3"
    },
    "tags": [
     "sample_code"
    ]
   },
   "outputs": [
    {
     "data": {
      "text/html": [
       "<div>\n",
       "<style scoped>\n",
       "    .dataframe tbody tr th:only-of-type {\n",
       "        vertical-align: middle;\n",
       "    }\n",
       "\n",
       "    .dataframe tbody tr th {\n",
       "        vertical-align: top;\n",
       "    }\n",
       "\n",
       "    .dataframe thead th {\n",
       "        text-align: right;\n",
       "    }\n",
       "</style>\n",
       "<table border=\"1\" class=\"dataframe\">\n",
       "  <thead>\n",
       "    <tr style=\"text-align: right;\">\n",
       "      <th></th>\n",
       "      <th>set_num</th>\n",
       "      <th>name</th>\n",
       "      <th>year</th>\n",
       "      <th>num_parts</th>\n",
       "      <th>theme_name</th>\n",
       "      <th>parent_theme</th>\n",
       "    </tr>\n",
       "  </thead>\n",
       "  <tbody>\n",
       "    <tr>\n",
       "      <th>0</th>\n",
       "      <td>00-1</td>\n",
       "      <td>Weetabix Castle</td>\n",
       "      <td>1970</td>\n",
       "      <td>471.0</td>\n",
       "      <td>Castle</td>\n",
       "      <td>Legoland</td>\n",
       "    </tr>\n",
       "    <tr>\n",
       "      <th>1</th>\n",
       "      <td>0011-2</td>\n",
       "      <td>Town Mini-Figures</td>\n",
       "      <td>1978</td>\n",
       "      <td>NaN</td>\n",
       "      <td>Supplemental</td>\n",
       "      <td>Town</td>\n",
       "    </tr>\n",
       "    <tr>\n",
       "      <th>2</th>\n",
       "      <td>0011-3</td>\n",
       "      <td>Castle 2 for 1 Bonus Offer</td>\n",
       "      <td>1987</td>\n",
       "      <td>NaN</td>\n",
       "      <td>Lion Knights</td>\n",
       "      <td>Castle</td>\n",
       "    </tr>\n",
       "    <tr>\n",
       "      <th>3</th>\n",
       "      <td>0012-1</td>\n",
       "      <td>Space Mini-Figures</td>\n",
       "      <td>1979</td>\n",
       "      <td>12.0</td>\n",
       "      <td>Supplemental</td>\n",
       "      <td>Space</td>\n",
       "    </tr>\n",
       "    <tr>\n",
       "      <th>4</th>\n",
       "      <td>0013-1</td>\n",
       "      <td>Space Mini-Figures</td>\n",
       "      <td>1979</td>\n",
       "      <td>12.0</td>\n",
       "      <td>Supplemental</td>\n",
       "      <td>Space</td>\n",
       "    </tr>\n",
       "  </tbody>\n",
       "</table>\n",
       "</div>"
      ],
      "text/plain": [
       "  set_num                        name  year  num_parts    theme_name  \\\n",
       "0    00-1             Weetabix Castle  1970      471.0        Castle   \n",
       "1  0011-2           Town Mini-Figures  1978        NaN  Supplemental   \n",
       "2  0011-3  Castle 2 for 1 Bonus Offer  1987        NaN  Lion Knights   \n",
       "3  0012-1          Space Mini-Figures  1979       12.0  Supplemental   \n",
       "4  0013-1          Space Mini-Figures  1979       12.0  Supplemental   \n",
       "\n",
       "  parent_theme  \n",
       "0     Legoland  \n",
       "1         Town  \n",
       "2       Castle  \n",
       "3        Space  \n",
       "4        Space  "
      ]
     },
     "execution_count": 1,
     "metadata": {},
     "output_type": "execute_result"
    }
   ],
   "source": [
    "# Use this cell to begin your analyses, and add as many cells as you would like!\n",
    "import pandas as pd\n",
    "\n",
    "lego_sets = pd.read_csv('datasets/lego_sets.csv')\n",
    "\n",
    "lego_sets.head()"
   ]
  },
  {
   "cell_type": "code",
   "execution_count": 2,
   "metadata": {
    "dc": {
     "key": "3"
    }
   },
   "outputs": [
    {
     "data": {
      "text/html": [
       "<div>\n",
       "<style scoped>\n",
       "    .dataframe tbody tr th:only-of-type {\n",
       "        vertical-align: middle;\n",
       "    }\n",
       "\n",
       "    .dataframe tbody tr th {\n",
       "        vertical-align: top;\n",
       "    }\n",
       "\n",
       "    .dataframe thead th {\n",
       "        text-align: right;\n",
       "    }\n",
       "</style>\n",
       "<table border=\"1\" class=\"dataframe\">\n",
       "  <thead>\n",
       "    <tr style=\"text-align: right;\">\n",
       "      <th></th>\n",
       "      <th>id</th>\n",
       "      <th>name</th>\n",
       "      <th>is_licensed</th>\n",
       "    </tr>\n",
       "  </thead>\n",
       "  <tbody>\n",
       "    <tr>\n",
       "      <th>0</th>\n",
       "      <td>1</td>\n",
       "      <td>Technic</td>\n",
       "      <td>False</td>\n",
       "    </tr>\n",
       "    <tr>\n",
       "      <th>1</th>\n",
       "      <td>22</td>\n",
       "      <td>Creator</td>\n",
       "      <td>False</td>\n",
       "    </tr>\n",
       "    <tr>\n",
       "      <th>2</th>\n",
       "      <td>50</td>\n",
       "      <td>Town</td>\n",
       "      <td>False</td>\n",
       "    </tr>\n",
       "    <tr>\n",
       "      <th>3</th>\n",
       "      <td>112</td>\n",
       "      <td>Racers</td>\n",
       "      <td>False</td>\n",
       "    </tr>\n",
       "    <tr>\n",
       "      <th>4</th>\n",
       "      <td>126</td>\n",
       "      <td>Space</td>\n",
       "      <td>False</td>\n",
       "    </tr>\n",
       "  </tbody>\n",
       "</table>\n",
       "</div>"
      ],
      "text/plain": [
       "    id     name  is_licensed\n",
       "0    1  Technic        False\n",
       "1   22  Creator        False\n",
       "2   50     Town        False\n",
       "3  112   Racers        False\n",
       "4  126    Space        False"
      ]
     },
     "execution_count": 2,
     "metadata": {},
     "output_type": "execute_result"
    }
   ],
   "source": [
    "parent_themes = pd.read_csv('datasets/parent_themes.csv')\n",
    "\n",
    "parent_themes.head()"
   ]
  },
  {
   "cell_type": "markdown",
   "metadata": {
    "dc": {
     "key": "3"
    }
   },
   "source": [
    "## Exploring the Data Sets"
   ]
  },
  {
   "cell_type": "code",
   "execution_count": 3,
   "metadata": {
    "dc": {
     "key": "3"
    }
   },
   "outputs": [
    {
     "name": "stdout",
     "output_type": "stream",
     "text": [
      "<class 'pandas.core.frame.DataFrame'>\n",
      "RangeIndex: 11986 entries, 0 to 11985\n",
      "Data columns (total 6 columns):\n",
      " #   Column        Non-Null Count  Dtype  \n",
      "---  ------        --------------  -----  \n",
      " 0   set_num       11833 non-null  object \n",
      " 1   name          11833 non-null  object \n",
      " 2   year          11986 non-null  int64  \n",
      " 3   num_parts     6926 non-null   float64\n",
      " 4   theme_name    11833 non-null  object \n",
      " 5   parent_theme  11986 non-null  object \n",
      "dtypes: float64(1), int64(1), object(4)\n",
      "memory usage: 562.0+ KB\n"
     ]
    }
   ],
   "source": [
    "lego_sets.info()"
   ]
  },
  {
   "cell_type": "code",
   "execution_count": 4,
   "metadata": {
    "dc": {
     "key": "3"
    }
   },
   "outputs": [
    {
     "name": "stdout",
     "output_type": "stream",
     "text": [
      "<class 'pandas.core.frame.DataFrame'>\n",
      "RangeIndex: 111 entries, 0 to 110\n",
      "Data columns (total 3 columns):\n",
      " #   Column       Non-Null Count  Dtype \n",
      "---  ------       --------------  ----- \n",
      " 0   id           111 non-null    int64 \n",
      " 1   name         111 non-null    object\n",
      " 2   is_licensed  111 non-null    bool  \n",
      "dtypes: bool(1), int64(1), object(1)\n",
      "memory usage: 2.0+ KB\n"
     ]
    }
   ],
   "source": [
    "parent_themes.info()"
   ]
  },
  {
   "cell_type": "markdown",
   "metadata": {
    "dc": {
     "key": "3"
    }
   },
   "source": [
    "## Cleaning Null Values From Unqie Attributes"
   ]
  },
  {
   "cell_type": "code",
   "execution_count": 5,
   "metadata": {
    "dc": {
     "key": "3"
    }
   },
   "outputs": [
    {
     "name": "stdout",
     "output_type": "stream",
     "text": [
      "<class 'pandas.core.frame.DataFrame'>\n",
      "Int64Index: 11833 entries, 0 to 11832\n",
      "Data columns (total 6 columns):\n",
      " #   Column        Non-Null Count  Dtype  \n",
      "---  ------        --------------  -----  \n",
      " 0   set_num       11833 non-null  object \n",
      " 1   name          11833 non-null  object \n",
      " 2   year          11833 non-null  int64  \n",
      " 3   num_parts     6835 non-null   float64\n",
      " 4   theme_name    11833 non-null  object \n",
      " 5   parent_theme  11833 non-null  object \n",
      "dtypes: float64(1), int64(1), object(4)\n",
      "memory usage: 647.1+ KB\n"
     ]
    }
   ],
   "source": [
    "unique_lego_sets = lego_sets.dropna(subset=['set_num'])\n",
    "unique_lego_sets.info()"
   ]
  },
  {
   "cell_type": "markdown",
   "metadata": {
    "dc": {
     "key": "3"
    }
   },
   "source": [
    "## Exploring Start Wars Themed LEGO"
   ]
  },
  {
   "cell_type": "code",
   "execution_count": 6,
   "metadata": {
    "dc": {
     "key": "3"
    }
   },
   "outputs": [
    {
     "data": {
      "text/plain": [
       "array(['Legoland', 'Town', 'Castle', 'Space', 'Classic', 'Gear',\n",
       "       'Universal Building Set', 'Train', 'Bulk Bricks', 'Star Wars',\n",
       "       'Hobby Sets', 'Bionicle', 'Sculptures', 'Discovery', 'Pirates',\n",
       "       'Seasonal', 'Super Heroes', 'Clikits', 'Sports', 'Harry Potter',\n",
       "       'Model Team', 'Other', 'Modular Buildings', 'Factory',\n",
       "       'Service Packs', 'Monster Fighters',\n",
       "       'The Hobbit and Lord of the Rings', 'Creator', 'Adventurers',\n",
       "       'Mindstorms', 'Technic', 'Educational and Dacta', 'Duplo',\n",
       "       'Disney Princess', 'Juniors', 'Friends', 'Aquazone', 'Ninja',\n",
       "       'Minitalia', 'Books', 'Ninjago', 'Hero Factory', 'Racers',\n",
       "       'Fabuland', 'Rock Raiders', 'Studios', 'Alpha Team', '4 Juniors',\n",
       "       'Building Set with People', 'Boat', 'Value Packs', 'Freestyle',\n",
       "       'Time Cruisers', 'Indiana Jones', 'Master Building Academy',\n",
       "       'FIRST LEGO League', 'Atlantis', 'Prince of Persia',\n",
       "       'Architecture', 'LEGO Ideas and CUUSOO', 'Minecraft', 'Fusion',\n",
       "       'Homemaker', 'Elves', 'Belville', 'Nexo Knights', 'Western',\n",
       "       'Promotional', 'Toy Story', \"Pharaoh's Quest\", 'Cars',\n",
       "       'Pirates of the Caribbean', 'Legends of Chima', 'The Lone Ranger',\n",
       "       'Teenage Mutant Ninja Turtles', 'The LEGO Movie', 'Jurassic World',\n",
       "       'Scooby-Doo', 'Designer Sets', 'LEGO Brand Store',\n",
       "       'Island Xtreme Stunts', 'Znap', \"Disney's Mickey Mouse\",\n",
       "       'Spybiotics', 'SpongeBob SquarePants', 'Avatar', 'Exo-Force',\n",
       "       'Legoland Parks', 'Inventor', 'Brickheadz', 'Mixels', 'X-Pod',\n",
       "       'Power Miners', 'Collectible Minifigures', 'Speed Champions',\n",
       "       'Agents', 'LEGO Exclusive', 'Universe', 'Dino', 'Dinosaurs',\n",
       "       'Vikings', 'Disney', 'Dimensions', 'Dino 2010', 'Dino Attack',\n",
       "       'Angry Birds', 'Ghostbusters', 'Power Functions', 'Ben 10'],\n",
       "      dtype=object)"
      ]
     },
     "execution_count": 6,
     "metadata": {},
     "output_type": "execute_result"
    }
   ],
   "source": [
    "lego_sets['parent_theme'].unique()"
   ]
  },
  {
   "cell_type": "code",
   "execution_count": 7,
   "metadata": {
    "dc": {
     "key": "3"
    }
   },
   "outputs": [
    {
     "name": "stdout",
     "output_type": "stream",
     "text": [
      "       set_num                                     name  year  num_parts  \\\n",
      "44     10018-1                               Darth Maul  2001     1868.0   \n",
      "45     10019-1              Rebel Blockade Runner - UCS  2001        NaN   \n",
      "54     10026-1                  Naboo Starfighter - UCS  2002        NaN   \n",
      "57     10030-1            Imperial Star Destroyer - UCS  2002     3115.0   \n",
      "116    10123-1                               Cloud City  2003      707.0   \n",
      "...        ...                                      ...   ...        ...   \n",
      "11811    VP-12       Star Wars Co-Pack of 7121 and 7151  2000        2.0   \n",
      "11816     VP-2       Star Wars Co-Pack of 7110 and 7144  2001        2.0   \n",
      "11817     VP-3       Star Wars Co-Pack of 7131 and 7151  2000        2.0   \n",
      "11818     VP-4  Star Wars Co-Pack of 7101 7111 and 7171  2000        3.0   \n",
      "11822     VP-8       Star Wars Co-Pack of 7130 and 7150  2000        NaN   \n",
      "\n",
      "                    theme_name parent_theme  \n",
      "44                   Star Wars    Star Wars  \n",
      "45     Star Wars Episode 4/5/6    Star Wars  \n",
      "54         Star Wars Episode 1    Star Wars  \n",
      "57     Star Wars Episode 4/5/6    Star Wars  \n",
      "116    Star Wars Episode 4/5/6    Star Wars  \n",
      "...                        ...          ...  \n",
      "11811      Star Wars Episode 1    Star Wars  \n",
      "11816  Star Wars Episode 4/5/6    Star Wars  \n",
      "11817      Star Wars Episode 1    Star Wars  \n",
      "11818      Star Wars Episode 1    Star Wars  \n",
      "11822  Star Wars Episode 4/5/6    Star Wars  \n",
      "\n",
      "[609 rows x 6 columns]\n"
     ]
    }
   ],
   "source": [
    "star_wars_theme = unique_lego_sets.loc[unique_lego_sets['parent_theme'] == 'Star Wars']\n",
    "print(star_wars_theme)"
   ]
  },
  {
   "cell_type": "code",
   "execution_count": 8,
   "metadata": {
    "dc": {
     "key": "3"
    }
   },
   "outputs": [
    {
     "name": "stdout",
     "output_type": "stream",
     "text": [
      "      id                              name  is_licensed\n",
      "7    158                         Star Wars         True\n",
      "12   246                      Harry Potter         True\n",
      "16   263          Pirates of the Caribbean         True\n",
      "17   264                     Indiana Jones         True\n",
      "18   269                              Cars         True\n",
      "19   270                            Ben 10         True\n",
      "20   271                  Prince of Persia         True\n",
      "21   272             SpongeBob SquarePants         True\n",
      "23   275                         Toy Story         True\n",
      "33   317                            Avatar         True\n",
      "43   388             Disney's Mickey Mouse         True\n",
      "77   482                      Super Heroes         True\n",
      "88   561  The Hobbit and Lord of the Rings         True\n",
      "89   570      Teenage Mutant Ninja Turtles         True\n",
      "91   575                   The Lone Ranger         True\n",
      "93   577                         Minecraft         True\n",
      "95   579                   Disney Princess         True\n",
      "103  602                    Jurassic World         True\n",
      "104  603                        Scooby-Doo         True\n",
      "107  606                       Angry Birds         True\n",
      "108  607                      Ghostbusters         True\n",
      "109  608                            Disney         True\n",
      "<class 'pandas.core.frame.DataFrame'>\n",
      "Int64Index: 22 entries, 7 to 109\n",
      "Data columns (total 3 columns):\n",
      " #   Column       Non-Null Count  Dtype \n",
      "---  ------       --------------  ----- \n",
      " 0   id           22 non-null     int64 \n",
      " 1   name         22 non-null     object\n",
      " 2   is_licensed  22 non-null     bool  \n",
      "dtypes: bool(1), int64(1), object(1)\n",
      "memory usage: 550.0+ bytes\n"
     ]
    }
   ],
   "source": [
    "## Knowing How many licensed theme in the dataframe\n",
    "licensed_sets = parent_themes.loc[parent_themes['is_licensed'] == True ]\n",
    "\n",
    "print(licensed_sets)\n",
    "licensed_sets.info()"
   ]
  },
  {
   "cell_type": "markdown",
   "metadata": {
    "dc": {
     "key": "3"
    }
   },
   "source": [
    "## Joining the two data frames to Find out the total Licensed Sets "
   ]
  },
  {
   "cell_type": "code",
   "execution_count": 9,
   "metadata": {
    "dc": {
     "key": "3"
    }
   },
   "outputs": [
    {
     "data": {
      "text/html": [
       "<div>\n",
       "<style scoped>\n",
       "    .dataframe tbody tr th:only-of-type {\n",
       "        vertical-align: middle;\n",
       "    }\n",
       "\n",
       "    .dataframe tbody tr th {\n",
       "        vertical-align: top;\n",
       "    }\n",
       "\n",
       "    .dataframe thead th {\n",
       "        text-align: right;\n",
       "    }\n",
       "</style>\n",
       "<table border=\"1\" class=\"dataframe\">\n",
       "  <thead>\n",
       "    <tr style=\"text-align: right;\">\n",
       "      <th></th>\n",
       "      <th>set_num</th>\n",
       "      <th>name_x</th>\n",
       "      <th>year</th>\n",
       "      <th>num_parts</th>\n",
       "      <th>theme_name</th>\n",
       "      <th>parent_theme</th>\n",
       "      <th>id</th>\n",
       "      <th>name_y</th>\n",
       "      <th>is_licensed</th>\n",
       "    </tr>\n",
       "  </thead>\n",
       "  <tbody>\n",
       "    <tr>\n",
       "      <th>0</th>\n",
       "      <td>00-1</td>\n",
       "      <td>Weetabix Castle</td>\n",
       "      <td>1970</td>\n",
       "      <td>471.0</td>\n",
       "      <td>Castle</td>\n",
       "      <td>Legoland</td>\n",
       "      <td>411</td>\n",
       "      <td>Legoland</td>\n",
       "      <td>False</td>\n",
       "    </tr>\n",
       "    <tr>\n",
       "      <th>1</th>\n",
       "      <td>00-2</td>\n",
       "      <td>Weetabix Promotional House 1</td>\n",
       "      <td>1976</td>\n",
       "      <td>NaN</td>\n",
       "      <td>Building</td>\n",
       "      <td>Legoland</td>\n",
       "      <td>411</td>\n",
       "      <td>Legoland</td>\n",
       "      <td>False</td>\n",
       "    </tr>\n",
       "    <tr>\n",
       "      <th>2</th>\n",
       "      <td>00-3</td>\n",
       "      <td>Weetabix Promotional House 2</td>\n",
       "      <td>1976</td>\n",
       "      <td>NaN</td>\n",
       "      <td>Building</td>\n",
       "      <td>Legoland</td>\n",
       "      <td>411</td>\n",
       "      <td>Legoland</td>\n",
       "      <td>False</td>\n",
       "    </tr>\n",
       "    <tr>\n",
       "      <th>3</th>\n",
       "      <td>00-4</td>\n",
       "      <td>Weetabix Promotional Windmill</td>\n",
       "      <td>1976</td>\n",
       "      <td>126.0</td>\n",
       "      <td>Building</td>\n",
       "      <td>Legoland</td>\n",
       "      <td>411</td>\n",
       "      <td>Legoland</td>\n",
       "      <td>False</td>\n",
       "    </tr>\n",
       "    <tr>\n",
       "      <th>4</th>\n",
       "      <td>00-7</td>\n",
       "      <td>Weetabix Promotional Lego Village</td>\n",
       "      <td>1976</td>\n",
       "      <td>NaN</td>\n",
       "      <td>Building</td>\n",
       "      <td>Legoland</td>\n",
       "      <td>411</td>\n",
       "      <td>Legoland</td>\n",
       "      <td>False</td>\n",
       "    </tr>\n",
       "  </tbody>\n",
       "</table>\n",
       "</div>"
      ],
      "text/plain": [
       "  set_num                             name_x  year  num_parts theme_name  \\\n",
       "0    00-1                    Weetabix Castle  1970      471.0     Castle   \n",
       "1    00-2       Weetabix Promotional House 1  1976        NaN   Building   \n",
       "2    00-3       Weetabix Promotional House 2  1976        NaN   Building   \n",
       "3    00-4      Weetabix Promotional Windmill  1976      126.0   Building   \n",
       "4    00-7  Weetabix Promotional Lego Village  1976        NaN   Building   \n",
       "\n",
       "  parent_theme   id    name_y  is_licensed  \n",
       "0     Legoland  411  Legoland        False  \n",
       "1     Legoland  411  Legoland        False  \n",
       "2     Legoland  411  Legoland        False  \n",
       "3     Legoland  411  Legoland        False  \n",
       "4     Legoland  411  Legoland        False  "
      ]
     },
     "execution_count": 9,
     "metadata": {},
     "output_type": "execute_result"
    }
   ],
   "source": [
    "joined_lego_set = pd.merge(left = unique_lego_sets, right = parent_themes, how= 'inner',\n",
    "                    left_on='parent_theme', right_on='name')\n",
    "joined_lego_set.head()"
   ]
  },
  {
   "cell_type": "code",
   "execution_count": 10,
   "metadata": {
    "dc": {
     "key": "3"
    }
   },
   "outputs": [
    {
     "data": {
      "text/html": [
       "<div>\n",
       "<style scoped>\n",
       "    .dataframe tbody tr th:only-of-type {\n",
       "        vertical-align: middle;\n",
       "    }\n",
       "\n",
       "    .dataframe tbody tr th {\n",
       "        vertical-align: top;\n",
       "    }\n",
       "\n",
       "    .dataframe thead th {\n",
       "        text-align: right;\n",
       "    }\n",
       "</style>\n",
       "<table border=\"1\" class=\"dataframe\">\n",
       "  <thead>\n",
       "    <tr style=\"text-align: right;\">\n",
       "      <th></th>\n",
       "      <th>set_num</th>\n",
       "      <th>name_x</th>\n",
       "      <th>year</th>\n",
       "      <th>num_parts</th>\n",
       "      <th>theme_name</th>\n",
       "      <th>parent_theme</th>\n",
       "      <th>is_licensed</th>\n",
       "    </tr>\n",
       "  </thead>\n",
       "  <tbody>\n",
       "    <tr>\n",
       "      <th>0</th>\n",
       "      <td>00-1</td>\n",
       "      <td>Weetabix Castle</td>\n",
       "      <td>1970</td>\n",
       "      <td>471.0</td>\n",
       "      <td>Castle</td>\n",
       "      <td>Legoland</td>\n",
       "      <td>False</td>\n",
       "    </tr>\n",
       "    <tr>\n",
       "      <th>1</th>\n",
       "      <td>00-2</td>\n",
       "      <td>Weetabix Promotional House 1</td>\n",
       "      <td>1976</td>\n",
       "      <td>NaN</td>\n",
       "      <td>Building</td>\n",
       "      <td>Legoland</td>\n",
       "      <td>False</td>\n",
       "    </tr>\n",
       "    <tr>\n",
       "      <th>2</th>\n",
       "      <td>00-3</td>\n",
       "      <td>Weetabix Promotional House 2</td>\n",
       "      <td>1976</td>\n",
       "      <td>NaN</td>\n",
       "      <td>Building</td>\n",
       "      <td>Legoland</td>\n",
       "      <td>False</td>\n",
       "    </tr>\n",
       "    <tr>\n",
       "      <th>3</th>\n",
       "      <td>00-4</td>\n",
       "      <td>Weetabix Promotional Windmill</td>\n",
       "      <td>1976</td>\n",
       "      <td>126.0</td>\n",
       "      <td>Building</td>\n",
       "      <td>Legoland</td>\n",
       "      <td>False</td>\n",
       "    </tr>\n",
       "    <tr>\n",
       "      <th>4</th>\n",
       "      <td>00-7</td>\n",
       "      <td>Weetabix Promotional Lego Village</td>\n",
       "      <td>1976</td>\n",
       "      <td>NaN</td>\n",
       "      <td>Building</td>\n",
       "      <td>Legoland</td>\n",
       "      <td>False</td>\n",
       "    </tr>\n",
       "  </tbody>\n",
       "</table>\n",
       "</div>"
      ],
      "text/plain": [
       "  set_num                             name_x  year  num_parts theme_name  \\\n",
       "0    00-1                    Weetabix Castle  1970      471.0     Castle   \n",
       "1    00-2       Weetabix Promotional House 1  1976        NaN   Building   \n",
       "2    00-3       Weetabix Promotional House 2  1976        NaN   Building   \n",
       "3    00-4      Weetabix Promotional Windmill  1976      126.0   Building   \n",
       "4    00-7  Weetabix Promotional Lego Village  1976        NaN   Building   \n",
       "\n",
       "  parent_theme  is_licensed  \n",
       "0     Legoland        False  \n",
       "1     Legoland        False  \n",
       "2     Legoland        False  \n",
       "3     Legoland        False  \n",
       "4     Legoland        False  "
      ]
     },
     "execution_count": 10,
     "metadata": {},
     "output_type": "execute_result"
    }
   ],
   "source": [
    "# Will Drop the id column as we don't need it\n",
    "joined_lego_set.drop(\"id\", axis=1, inplace=True)\n",
    "joined_lego_set.drop(\"name_y\", axis=1, inplace=True)\n",
    "joined_lego_set.head()"
   ]
  },
  {
   "cell_type": "markdown",
   "metadata": {
    "dc": {
     "key": "3"
    }
   },
   "source": [
    "## Calculating percentage of Star Wars themed Sets over all licensed sets ever released were"
   ]
  },
  {
   "cell_type": "code",
   "execution_count": 11,
   "metadata": {
    "dc": {
     "key": "3"
    }
   },
   "outputs": [
    {
     "data": {
      "text/plain": [
       "set_num         1179\n",
       "name_x          1179\n",
       "year            1179\n",
       "num_parts        664\n",
       "theme_name      1179\n",
       "parent_theme    1179\n",
       "is_licensed     1179\n",
       "dtype: int64"
      ]
     },
     "execution_count": 11,
     "metadata": {},
     "output_type": "execute_result"
    }
   ],
   "source": [
    "joined_lego_set[joined_lego_set['is_licensed'] == True].count()"
   ]
  },
  {
   "cell_type": "code",
   "execution_count": 12,
   "metadata": {
    "dc": {
     "key": "3"
    }
   },
   "outputs": [
    {
     "data": {
      "text/plain": [
       "set_num         609\n",
       "name_x          609\n",
       "year            609\n",
       "num_parts       334\n",
       "theme_name      609\n",
       "parent_theme    609\n",
       "is_licensed     609\n",
       "dtype: int64"
      ]
     },
     "execution_count": 12,
     "metadata": {},
     "output_type": "execute_result"
    }
   ],
   "source": [
    "joined_lego_set[joined_lego_set['parent_theme'] == 'Star Wars'].count()"
   ]
  },
  {
   "cell_type": "code",
   "execution_count": 13,
   "metadata": {
    "dc": {
     "key": "3"
    }
   },
   "outputs": [
    {
     "name": "stdout",
     "output_type": "stream",
     "text": [
      "The percentage of all licensed sets ever released that were Star Wars themed is 51.653944020356235%\n"
     ]
    }
   ],
   "source": [
    "#Calculating variables\n",
    "number_of_licesnsed = (joined_lego_set['is_licensed'] == True).sum()\n",
    "number_of_starwars = (joined_lego_set['parent_theme'] == 'Star Wars').sum()\n",
    "\n",
    "#Question 1 Answer\n",
    "the_force = (number_of_starwars/number_of_licesnsed)*100\n",
    "print(\"The percentage of all licensed sets ever released that were Star Wars themed is \" + str(the_force) + \"%\")"
   ]
  },
  {
   "cell_type": "markdown",
   "metadata": {
    "dc": {
     "key": "3"
    }
   },
   "source": [
    "## In which year was Star Wars not the most popular licensed theme "
   ]
  },
  {
   "cell_type": "code",
   "execution_count": 14,
   "metadata": {
    "dc": {
     "key": "3"
    }
   },
   "outputs": [
    {
     "data": {
      "text/html": [
       "<div>\n",
       "<style scoped>\n",
       "    .dataframe tbody tr th:only-of-type {\n",
       "        vertical-align: middle;\n",
       "    }\n",
       "\n",
       "    .dataframe tbody tr th {\n",
       "        vertical-align: top;\n",
       "    }\n",
       "\n",
       "    .dataframe thead th {\n",
       "        text-align: right;\n",
       "    }\n",
       "</style>\n",
       "<table border=\"1\" class=\"dataframe\">\n",
       "  <thead>\n",
       "    <tr style=\"text-align: right;\">\n",
       "      <th></th>\n",
       "      <th>set_num</th>\n",
       "      <th>name_x</th>\n",
       "      <th>year</th>\n",
       "      <th>num_parts</th>\n",
       "      <th>theme_name</th>\n",
       "      <th>parent_theme</th>\n",
       "      <th>is_licensed</th>\n",
       "    </tr>\n",
       "  </thead>\n",
       "  <tbody>\n",
       "    <tr>\n",
       "      <th>3493</th>\n",
       "      <td>10018-1</td>\n",
       "      <td>Darth Maul</td>\n",
       "      <td>2001</td>\n",
       "      <td>1868.0</td>\n",
       "      <td>Star Wars</td>\n",
       "      <td>Star Wars</td>\n",
       "      <td>True</td>\n",
       "    </tr>\n",
       "    <tr>\n",
       "      <th>3494</th>\n",
       "      <td>10019-1</td>\n",
       "      <td>Rebel Blockade Runner - UCS</td>\n",
       "      <td>2001</td>\n",
       "      <td>NaN</td>\n",
       "      <td>Star Wars Episode 4/5/6</td>\n",
       "      <td>Star Wars</td>\n",
       "      <td>True</td>\n",
       "    </tr>\n",
       "    <tr>\n",
       "      <th>3495</th>\n",
       "      <td>10026-1</td>\n",
       "      <td>Naboo Starfighter - UCS</td>\n",
       "      <td>2002</td>\n",
       "      <td>NaN</td>\n",
       "      <td>Star Wars Episode 1</td>\n",
       "      <td>Star Wars</td>\n",
       "      <td>True</td>\n",
       "    </tr>\n",
       "    <tr>\n",
       "      <th>3496</th>\n",
       "      <td>10030-1</td>\n",
       "      <td>Imperial Star Destroyer - UCS</td>\n",
       "      <td>2002</td>\n",
       "      <td>3115.0</td>\n",
       "      <td>Star Wars Episode 4/5/6</td>\n",
       "      <td>Star Wars</td>\n",
       "      <td>True</td>\n",
       "    </tr>\n",
       "    <tr>\n",
       "      <th>3497</th>\n",
       "      <td>10123-1</td>\n",
       "      <td>Cloud City</td>\n",
       "      <td>2003</td>\n",
       "      <td>707.0</td>\n",
       "      <td>Star Wars Episode 4/5/6</td>\n",
       "      <td>Star Wars</td>\n",
       "      <td>True</td>\n",
       "    </tr>\n",
       "    <tr>\n",
       "      <th>...</th>\n",
       "      <td>...</td>\n",
       "      <td>...</td>\n",
       "      <td>...</td>\n",
       "      <td>...</td>\n",
       "      <td>...</td>\n",
       "      <td>...</td>\n",
       "      <td>...</td>\n",
       "    </tr>\n",
       "    <tr>\n",
       "      <th>11828</th>\n",
       "      <td>8410-1</td>\n",
       "      <td>Swampfire</td>\n",
       "      <td>2010</td>\n",
       "      <td>22.0</td>\n",
       "      <td>Ben 10</td>\n",
       "      <td>Ben 10</td>\n",
       "      <td>True</td>\n",
       "    </tr>\n",
       "    <tr>\n",
       "      <th>11829</th>\n",
       "      <td>8411-1</td>\n",
       "      <td>ChromaStone</td>\n",
       "      <td>2010</td>\n",
       "      <td>21.0</td>\n",
       "      <td>Ben 10</td>\n",
       "      <td>Ben 10</td>\n",
       "      <td>True</td>\n",
       "    </tr>\n",
       "    <tr>\n",
       "      <th>11830</th>\n",
       "      <td>8517-1</td>\n",
       "      <td>Humungousaur</td>\n",
       "      <td>2010</td>\n",
       "      <td>14.0</td>\n",
       "      <td>Ben 10</td>\n",
       "      <td>Ben 10</td>\n",
       "      <td>True</td>\n",
       "    </tr>\n",
       "    <tr>\n",
       "      <th>11831</th>\n",
       "      <td>8518-1</td>\n",
       "      <td>Jet Ray</td>\n",
       "      <td>2010</td>\n",
       "      <td>NaN</td>\n",
       "      <td>Ben 10</td>\n",
       "      <td>Ben 10</td>\n",
       "      <td>True</td>\n",
       "    </tr>\n",
       "    <tr>\n",
       "      <th>11832</th>\n",
       "      <td>8519-1</td>\n",
       "      <td>Big Chill</td>\n",
       "      <td>2010</td>\n",
       "      <td>20.0</td>\n",
       "      <td>Ben 10</td>\n",
       "      <td>Ben 10</td>\n",
       "      <td>True</td>\n",
       "    </tr>\n",
       "  </tbody>\n",
       "</table>\n",
       "<p>1179 rows × 7 columns</p>\n",
       "</div>"
      ],
      "text/plain": [
       "       set_num                         name_x  year  num_parts  \\\n",
       "3493   10018-1                     Darth Maul  2001     1868.0   \n",
       "3494   10019-1    Rebel Blockade Runner - UCS  2001        NaN   \n",
       "3495   10026-1        Naboo Starfighter - UCS  2002        NaN   \n",
       "3496   10030-1  Imperial Star Destroyer - UCS  2002     3115.0   \n",
       "3497   10123-1                     Cloud City  2003      707.0   \n",
       "...        ...                            ...   ...        ...   \n",
       "11828   8410-1                      Swampfire  2010       22.0   \n",
       "11829   8411-1                    ChromaStone  2010       21.0   \n",
       "11830   8517-1                   Humungousaur  2010       14.0   \n",
       "11831   8518-1                        Jet Ray  2010        NaN   \n",
       "11832   8519-1                      Big Chill  2010       20.0   \n",
       "\n",
       "                    theme_name parent_theme  is_licensed  \n",
       "3493                 Star Wars    Star Wars         True  \n",
       "3494   Star Wars Episode 4/5/6    Star Wars         True  \n",
       "3495       Star Wars Episode 1    Star Wars         True  \n",
       "3496   Star Wars Episode 4/5/6    Star Wars         True  \n",
       "3497   Star Wars Episode 4/5/6    Star Wars         True  \n",
       "...                        ...          ...          ...  \n",
       "11828                   Ben 10       Ben 10         True  \n",
       "11829                   Ben 10       Ben 10         True  \n",
       "11830                   Ben 10       Ben 10         True  \n",
       "11831                   Ben 10       Ben 10         True  \n",
       "11832                   Ben 10       Ben 10         True  \n",
       "\n",
       "[1179 rows x 7 columns]"
      ]
     },
     "execution_count": 14,
     "metadata": {},
     "output_type": "execute_result"
    }
   ],
   "source": [
    "only_licensed = joined_lego_set.loc[joined_lego_set['is_licensed'] == True]\n",
    "only_licensed"
   ]
  },
  {
   "cell_type": "code",
   "execution_count": 15,
   "metadata": {
    "dc": {
     "key": "3"
    }
   },
   "outputs": [
    {
     "data": {
      "text/html": [
       "<div>\n",
       "<style scoped>\n",
       "    .dataframe tbody tr th:only-of-type {\n",
       "        vertical-align: middle;\n",
       "    }\n",
       "\n",
       "    .dataframe tbody tr th {\n",
       "        vertical-align: top;\n",
       "    }\n",
       "\n",
       "    .dataframe thead th {\n",
       "        text-align: right;\n",
       "    }\n",
       "</style>\n",
       "<table border=\"1\" class=\"dataframe\">\n",
       "  <thead>\n",
       "    <tr style=\"text-align: right;\">\n",
       "      <th></th>\n",
       "      <th>set_num</th>\n",
       "      <th>year</th>\n",
       "      <th>parent_theme</th>\n",
       "    </tr>\n",
       "  </thead>\n",
       "  <tbody>\n",
       "    <tr>\n",
       "      <th>3493</th>\n",
       "      <td>10018-1</td>\n",
       "      <td>2001</td>\n",
       "      <td>Star Wars</td>\n",
       "    </tr>\n",
       "    <tr>\n",
       "      <th>3494</th>\n",
       "      <td>10019-1</td>\n",
       "      <td>2001</td>\n",
       "      <td>Star Wars</td>\n",
       "    </tr>\n",
       "    <tr>\n",
       "      <th>3495</th>\n",
       "      <td>10026-1</td>\n",
       "      <td>2002</td>\n",
       "      <td>Star Wars</td>\n",
       "    </tr>\n",
       "    <tr>\n",
       "      <th>3496</th>\n",
       "      <td>10030-1</td>\n",
       "      <td>2002</td>\n",
       "      <td>Star Wars</td>\n",
       "    </tr>\n",
       "    <tr>\n",
       "      <th>3497</th>\n",
       "      <td>10123-1</td>\n",
       "      <td>2003</td>\n",
       "      <td>Star Wars</td>\n",
       "    </tr>\n",
       "    <tr>\n",
       "      <th>...</th>\n",
       "      <td>...</td>\n",
       "      <td>...</td>\n",
       "      <td>...</td>\n",
       "    </tr>\n",
       "    <tr>\n",
       "      <th>11828</th>\n",
       "      <td>8410-1</td>\n",
       "      <td>2010</td>\n",
       "      <td>Ben 10</td>\n",
       "    </tr>\n",
       "    <tr>\n",
       "      <th>11829</th>\n",
       "      <td>8411-1</td>\n",
       "      <td>2010</td>\n",
       "      <td>Ben 10</td>\n",
       "    </tr>\n",
       "    <tr>\n",
       "      <th>11830</th>\n",
       "      <td>8517-1</td>\n",
       "      <td>2010</td>\n",
       "      <td>Ben 10</td>\n",
       "    </tr>\n",
       "    <tr>\n",
       "      <th>11831</th>\n",
       "      <td>8518-1</td>\n",
       "      <td>2010</td>\n",
       "      <td>Ben 10</td>\n",
       "    </tr>\n",
       "    <tr>\n",
       "      <th>11832</th>\n",
       "      <td>8519-1</td>\n",
       "      <td>2010</td>\n",
       "      <td>Ben 10</td>\n",
       "    </tr>\n",
       "  </tbody>\n",
       "</table>\n",
       "<p>1179 rows × 3 columns</p>\n",
       "</div>"
      ],
      "text/plain": [
       "       set_num  year parent_theme\n",
       "3493   10018-1  2001    Star Wars\n",
       "3494   10019-1  2001    Star Wars\n",
       "3495   10026-1  2002    Star Wars\n",
       "3496   10030-1  2002    Star Wars\n",
       "3497   10123-1  2003    Star Wars\n",
       "...        ...   ...          ...\n",
       "11828   8410-1  2010       Ben 10\n",
       "11829   8411-1  2010       Ben 10\n",
       "11830   8517-1  2010       Ben 10\n",
       "11831   8518-1  2010       Ben 10\n",
       "11832   8519-1  2010       Ben 10\n",
       "\n",
       "[1179 rows x 3 columns]"
      ]
     },
     "execution_count": 15,
     "metadata": {},
     "output_type": "execute_result"
    }
   ],
   "source": [
    "#Created a subset of only needed data to answer the second question\n",
    "subset_only_licensed = only_licensed[['set_num','year','parent_theme']]\n",
    "\n",
    "subset_only_licensed"
   ]
  },
  {
   "cell_type": "code",
   "execution_count": 16,
   "metadata": {
    "dc": {
     "key": "3"
    }
   },
   "outputs": [
    {
     "data": {
      "text/plain": [
       "year\n",
       "1999       Star Wars\n",
       "2000       Star Wars\n",
       "2001       Star Wars\n",
       "2002       Star Wars\n",
       "2003       Star Wars\n",
       "2004       Star Wars\n",
       "2005       Star Wars\n",
       "2006       Star Wars\n",
       "2007       Star Wars\n",
       "2008       Star Wars\n",
       "2009       Star Wars\n",
       "2010       Star Wars\n",
       "2011       Star Wars\n",
       "2012       Star Wars\n",
       "2013       Star Wars\n",
       "2014       Star Wars\n",
       "2015       Star Wars\n",
       "2016       Star Wars\n",
       "2017    Super Heroes\n",
       "Name: parent_theme, dtype: object"
      ]
     },
     "execution_count": 16,
     "metadata": {},
     "output_type": "execute_result"
    }
   ],
   "source": [
    "most_popular_sets = subset_only_licensed.groupby('year')['parent_theme'].agg(pd.Series.mode)\n",
    "most_popular_sets"
   ]
  },
  {
   "cell_type": "code",
   "execution_count": 18,
   "metadata": {
    "dc": {
     "key": "3"
    }
   },
   "outputs": [
    {
     "name": "stdout",
     "output_type": "stream",
     "text": [
      "The year were Star Wars was not the most popular licensed theme is 2017\n"
     ]
    }
   ],
   "source": [
    "new_era = int(most_popular_sets[most_popular_sets != 'Star Wars'].index[0])\n",
    "print(\"The year were Star Wars was not the most popular licensed theme is \" + str(new_era))"
   ]
  },
  {
   "cell_type": "code",
   "execution_count": null,
   "metadata": {
    "dc": {
     "key": "3"
    }
   },
   "outputs": [],
   "source": []
  }
 ],
 "metadata": {
  "kernelspec": {
   "display_name": "Python 3",
   "language": "python",
   "name": "python3"
  },
  "language_info": {
   "codemirror_mode": {
    "name": "ipython",
    "version": 3
   },
   "file_extension": ".py",
   "mimetype": "text/x-python",
   "name": "python",
   "nbconvert_exporter": "python",
   "pygments_lexer": "ipython3",
   "version": "3.8.8"
  }
 },
 "nbformat": 4,
 "nbformat_minor": 2
}
